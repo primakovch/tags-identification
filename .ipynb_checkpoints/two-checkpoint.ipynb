{
 "cells": [
  {
   "cell_type": "code",
   "execution_count": 1,
   "metadata": {},
   "outputs": [],
   "source": [
    "from sklearn.model_selection import train_test_split\n",
    "import re\n",
    "import unicodedata2\n",
    "import nltk\n",
    "#nltk.download('stopwords')\n",
    "#nltk.download('wordnet')\n",
    "from nltk.corpus import stopwords\n",
    "import pandas as pd\n",
    "from sklearn.feature_extraction.text import CountVectorizer,TfidfVectorizer\n",
    "import numpy as np\n",
    "from sklearn.metrics import f1_score\n",
    "from sklearn.linear_model import LogisticRegression\n",
    "from sklearn.multiclass import OneVsRestClassifier"
   ]
  },
  {
   "cell_type": "code",
   "execution_count": 2,
   "metadata": {},
   "outputs": [],
   "source": [
    "train=pd.read_csv('train.csv')\n",
    "test=pd.read_csv('test.csv')"
   ]
  },
  {
   "cell_type": "code",
   "execution_count": 53,
   "metadata": {},
   "outputs": [
    {
     "data": {
      "text/plain": [
       "2012"
      ]
     },
     "execution_count": 53,
     "metadata": {},
     "output_type": "execute_result"
    }
   ],
   "source": [
    "train['ABSTRACT'][0]"
   ]
  },
  {
   "cell_type": "code",
   "execution_count": 3,
   "metadata": {},
   "outputs": [],
   "source": [
    "def basic_clean(text):\n",
    "  wnl = nltk.stem.WordNetLemmatizer()\n",
    "  stopwords = nltk.corpus.stopwords.words('english')\n",
    "  text = (unicodedata2.normalize('NFKD', text)\n",
    "          .encode('ascii', 'ignore')\n",
    "          .decode('utf-8', 'ignore')\n",
    "          .lower())\n",
    "  words = re.sub(r'[^\\w\\s]', '', text).split()\n",
    "  return [wnl.lemmatize(word) for word in words if word not in stopwords]\n",
    "  #return words\n"
   ]
  },
  {
   "cell_type": "code",
   "execution_count": 73,
   "metadata": {},
   "outputs": [],
   "source": [
    "word=list(basic_clean(train['ABSTRACT'][0]))[0:5]"
   ]
  },
  {
   "cell_type": "code",
   "execution_count": 74,
   "metadata": {},
   "outputs": [
    {
     "data": {
      "text/plain": [
       "['evergrowing', 'datasets', 'inside', 'observational', 'astronomy']"
      ]
     },
     "execution_count": 74,
     "metadata": {},
     "output_type": "execute_result"
    }
   ],
   "source": [
    "word"
   ]
  },
  {
   "cell_type": "code",
   "execution_count": 75,
   "metadata": {},
   "outputs": [],
   "source": [
    "vec=CountVectorizer()\n",
    "\n",
    "x=vec.fit_transform(list(word))"
   ]
  },
  {
   "cell_type": "code",
   "execution_count": 76,
   "metadata": {},
   "outputs": [
    {
     "data": {
      "text/plain": [
       "<5x5 sparse matrix of type '<class 'numpy.int64'>'\n",
       "\twith 5 stored elements in Compressed Sparse Row format>"
      ]
     },
     "execution_count": 76,
     "metadata": {},
     "output_type": "execute_result"
    }
   ],
   "source": [
    "x"
   ]
  },
  {
   "cell_type": "code",
   "execution_count": 4,
   "metadata": {},
   "outputs": [],
   "source": [
    "words_tr = basic_clean(''.join(str(train['ABSTRACT'].tolist())))\n",
    "words_tst = basic_clean(''.join(str(test['ABSTRACT'].tolist())))"
   ]
  },
  {
   "cell_type": "code",
   "execution_count": 5,
   "metadata": {},
   "outputs": [
    {
     "data": {
      "text/plain": [
       "CountVectorizer(max_features=40000)"
      ]
     },
     "execution_count": 5,
     "metadata": {},
     "output_type": "execute_result"
    }
   ],
   "source": [
    "vec = CountVectorizer(max_features=40000)\n",
    "combined = words_tr+words_tst\n",
    "vec.fit(combined)"
   ]
  },
  {
   "cell_type": "code",
   "execution_count": 6,
   "metadata": {},
   "outputs": [],
   "source": [
    "trn, val = train_test_split(train, test_size=0.2, random_state=2)"
   ]
  },
  {
   "cell_type": "code",
   "execution_count": 7,
   "metadata": {},
   "outputs": [],
   "source": [
    "trn_abs = vec.transform(trn['ABSTRACT'])\n",
    "val_abs = vec.transform(val['ABSTRACT'])\n",
    "tst_abs = vec.transform(test['ABSTRACT'])"
   ]
  },
  {
   "cell_type": "code",
   "execution_count": 8,
   "metadata": {},
   "outputs": [],
   "source": [
    "target_col=['Analysis of PDEs', 'Applications',\n",
    "       'Artificial Intelligence', 'Astrophysics of Galaxies',\n",
    "       'Computation and Language', 'Computer Vision and Pattern Recognition',\n",
    "       'Cosmology and Nongalactic Astrophysics',\n",
    "       'Data Structures and Algorithms', 'Differential Geometry',\n",
    "       'Earth and Planetary Astrophysics', 'Fluid Dynamics',\n",
    "       'Information Theory', 'Instrumentation and Methods for Astrophysics',\n",
    "       'Machine Learning', 'Materials Science', 'Methodology', 'Number Theory',\n",
    "       'Optimization and Control', 'Representation Theory', 'Robotics',\n",
    "       'Social and Information Networks', 'Statistics Theory',\n",
    "       'Strongly Correlated Electrons', 'Superconductivity',\n",
    "       'Systems and Control']"
   ]
  },
  {
   "cell_type": "code",
   "execution_count": 9,
   "metadata": {},
   "outputs": [],
   "source": [
    "topic_col=['Computer Science', 'Mathematics', 'Physics', 'Statistics']"
   ]
  },
  {
   "cell_type": "code",
   "execution_count": 106,
   "metadata": {},
   "outputs": [
    {
     "name": "stdout",
     "output_type": "stream",
     "text": [
      "Wall time: 24.9 s\n"
     ]
    }
   ],
   "source": [
    "%%time\n",
    "\n",
    "clf = OneVsRestClassifier(LogisticRegression(C = 10, n_jobs=-1))\n",
    "clf.fit(trn_abs, trn[target_col])"
   ]
  },
  {
   "cell_type": "code",
   "execution_count": 107,
   "metadata": {},
   "outputs": [
    {
     "data": {
      "text/plain": [
       "0.6163982430453879"
      ]
     },
     "execution_count": 107,
     "metadata": {},
     "output_type": "execute_result"
    }
   ],
   "source": [
    "val_preds = clf.predict(val_abs)\n",
    "f1_score(val[target_col], val_preds, average='micro')"
   ]
  },
  {
   "cell_type": "code",
   "execution_count": 10,
   "metadata": {},
   "outputs": [],
   "source": [
    "from sklearn.metrics import precision_score,recall_score"
   ]
  },
  {
   "cell_type": "code",
   "execution_count": 109,
   "metadata": {},
   "outputs": [
    {
     "data": {
      "text/plain": [
       "0.6836635271191945"
      ]
     },
     "execution_count": 109,
     "metadata": {},
     "output_type": "execute_result"
    }
   ],
   "source": [
    "precision_score(val[target_col], val_preds, average='micro')"
   ]
  },
  {
   "cell_type": "code",
   "execution_count": 110,
   "metadata": {},
   "outputs": [
    {
     "data": {
      "text/plain": [
       "0.5611836843508398"
      ]
     },
     "execution_count": 110,
     "metadata": {},
     "output_type": "execute_result"
    }
   ],
   "source": [
    "recall_score(val[target_col], val_preds, average='micro')"
   ]
  },
  {
   "cell_type": "code",
   "execution_count": 11,
   "metadata": {},
   "outputs": [],
   "source": [
    "def get_best_thresholds(true, preds):\n",
    "  thresholds = [i/100 for i in range(100)]\n",
    "  best_thresholds = []\n",
    "  for idx in range(25):\n",
    "    f1_scores = [f1_score(true[:, idx], (preds[:, idx] > thresh) * 1) for thresh in thresholds]\n",
    "    best_thresh = thresholds[np.argmax(f1_scores)]\n",
    "    best_thresholds.append(best_thresh)\n",
    "  return best_thresholds"
   ]
  },
  {
   "cell_type": "code",
   "execution_count": 112,
   "metadata": {},
   "outputs": [
    {
     "data": {
      "text/plain": [
       "0.6359130766298132"
      ]
     },
     "execution_count": 112,
     "metadata": {},
     "output_type": "execute_result"
    }
   ],
   "source": [
    "val_preds = clf.predict_proba(val_abs)\n",
    "best_thresholds = get_best_thresholds(val[target_col].values, val_preds)\n",
    "\n",
    "for i, thresh in enumerate(best_thresholds):\n",
    "  val_preds[:, i] = (val_preds[:, i] > thresh) * 1\n",
    "  \n",
    "f1_score(val[target_col], val_preds, average='micro')"
   ]
  },
  {
   "cell_type": "code",
   "execution_count": 12,
   "metadata": {},
   "outputs": [],
   "source": [
    "TOPIC_COLS=['Computer Science', 'Mathematics', 'Physics', 'Statistics']"
   ]
  },
  {
   "cell_type": "code",
   "execution_count": 13,
   "metadata": {},
   "outputs": [
    {
     "name": "stdout",
     "output_type": "stream",
     "text": [
      "(11203, 40000) (2801, 40000) (6002, 40000)\n",
      "(11203, 40004) (2801, 40004) (6002, 40004)\n"
     ]
    }
   ],
   "source": [
    "vec = CountVectorizer(max_features=40000)\n",
    "combined = words_tr+words_tst\n",
    "vec.fit(combined)\n",
    "\n",
    "trn_abs = vec.transform(trn['ABSTRACT'])\n",
    "val_abs = vec.transform(val['ABSTRACT'])\n",
    "tst_abs = vec.transform(test['ABSTRACT'])\n",
    "print(trn_abs.shape, val_abs.shape, tst_abs.shape)\n",
    "\n",
    "trn2 = np.hstack((trn_abs.toarray(), trn[TOPIC_COLS]))\n",
    "val2 = np.hstack((val_abs.toarray(), val[TOPIC_COLS]))\n",
    "tst2 = np.hstack((tst_abs.toarray(), test[TOPIC_COLS]))\n",
    "\n",
    "print(trn2.shape, val2.shape, tst2.shape)"
   ]
  },
  {
   "cell_type": "code",
   "execution_count": 14,
   "metadata": {},
   "outputs": [],
   "source": [
    "TARGET_COLS=target_col"
   ]
  },
  {
   "cell_type": "code",
   "execution_count": 15,
   "metadata": {},
   "outputs": [],
   "source": [
    "from scipy.sparse import csr_matrix\n",
    "\n",
    "trn2 = csr_matrix(trn2.astype('int16'))\n",
    "val2 = csr_matrix(val2.astype('int16'))\n",
    "tst2 = csr_matrix(tst2.astype('int16'))"
   ]
  },
  {
   "cell_type": "code",
   "execution_count": null,
   "metadata": {},
   "outputs": [],
   "source": [
    "preds_test = clf.predict_proba(tst2)\n",
    "\n",
    "for i, thresh in enumerate(best_thresholds):\n",
    "  preds_test[:, i] = (preds_test[:, i] > thresh) * 1"
   ]
  },
  {
   "cell_type": "code",
   "execution_count": null,
   "metadata": {},
   "outputs": [],
   "source": [
    "submission = pd.DataFrame()\n",
    "submission['id'] = test['id']\n",
    "submission[target_col] = preds_test\n",
    "submission.to_csv('sol4.csv', header=True, index=False)"
   ]
  }
 ],
 "metadata": {
  "kernelspec": {
   "display_name": "Python 3",
   "language": "python",
   "name": "python3"
  },
  "language_info": {
   "codemirror_mode": {
    "name": "ipython",
    "version": 3
   },
   "file_extension": ".py",
   "mimetype": "text/x-python",
   "name": "python",
   "nbconvert_exporter": "python",
   "pygments_lexer": "ipython3",
   "version": "3.7.6"
  }
 },
 "nbformat": 4,
 "nbformat_minor": 2
}
